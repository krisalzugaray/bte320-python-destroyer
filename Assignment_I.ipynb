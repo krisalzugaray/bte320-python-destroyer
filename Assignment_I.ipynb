{
  "nbformat": 4,
  "nbformat_minor": 0,
  "metadata": {
    "colab": {
      "provenance": [],
      "collapsed_sections": [
        "S0hi61sEmXj6",
        "-fKv6s1QDqHv"
      ],
      "authorship_tag": "ABX9TyPC/GgJXnjYScrKLNH6QD8y",
      "include_colab_link": true
    },
    "kernelspec": {
      "name": "python3",
      "display_name": "Python 3"
    },
    "language_info": {
      "name": "python"
    }
  },
  "cells": [
    {
      "cell_type": "markdown",
      "metadata": {
        "id": "view-in-github",
        "colab_type": "text"
      },
      "source": [
        "<a href=\"https://colab.research.google.com/github/krisalzugaray/bte320-python-destroyer/blob/main/Assignment_I.ipynb\" target=\"_parent\"><img src=\"https://colab.research.google.com/assets/colab-badge.svg\" alt=\"Open In Colab\"/></a>"
      ]
    },
    {
      "cell_type": "markdown",
      "source": [
        "# **02/02 Class Exercise**\n",
        "\n",
        "Design a game of rock, paper, scissors."
      ],
      "metadata": {
        "id": "S0hi61sEmXj6"
      }
    },
    {
      "cell_type": "code",
      "source": [
        "import random\n",
        "user_choice = (input(\"rock, paper, scissors: \"))\n",
        "pc_choice = random.choice(['rock', 'paper', 'scissors'])\n",
        "print(f'PC chose: {pc_choice}')\n",
        "\n",
        "if user_choice == pc_choice:\n",
        "  print('tie')\n",
        "elif user_choice == 'paper':\n",
        "  if pc_choice == 'rock':\n",
        "    print('user wins')\n",
        "  else:\n",
        "    print('pc wins')\n",
        "elif user_choice == 'rock':\n",
        "  if pc_choice == 'scissors':\n",
        "    print('user wins')\n",
        "  else:\n",
        "    print('PC wins')\n",
        "elif user_choice == 'scissors':\n",
        "  if pc_choice == 'rock':\n",
        "    print('user wins')\n",
        "  else:\n",
        "    print('PC wins')"
      ],
      "metadata": {
        "colab": {
          "base_uri": "https://localhost:8080/"
        },
        "id": "Z5_X_gYfm1nX",
        "outputId": "a14cd3b1-7450-4400-ff9c-dc3d7124ee81"
      },
      "execution_count": null,
      "outputs": [
        {
          "output_type": "stream",
          "name": "stdout",
          "text": [
            "rock, paper, scissors: rock\n",
            "PC chose: paper\n",
            "PC wins\n"
          ]
        }
      ]
    },
    {
      "cell_type": "markdown",
      "source": [
        "# **02/07 Class Exercise**\n",
        "\n",
        "`A parking garage charges $5 plus $2.50 for each hour parked. The minimum fee is $10 and the maximum fee is $20. Write a program that generates a table with hours parked and the corresponding fee, from 1 to 8 hours.`\n",
        "\n",
        "`Processing: can use for and range() to handle repetition from 1 to 8 hours, and the calculation for fees.`\n",
        "\n",
        "`Output: can use the print() function, within the repetition to display the results.`"
      ],
      "metadata": {
        "id": "-fKv6s1QDqHv"
      }
    },
    {
      "cell_type": "code",
      "source": [
        "base_fee = 5\n",
        "hourly_fee = 2.5\n",
        "hour = 1\n",
        "for hour in range(1,9,1):\n",
        "    print(f'Hour: {hour}, Charge: ${round(base_fee+hourly_fee*hour)}')"
      ],
      "metadata": {
        "colab": {
          "base_uri": "https://localhost:8080/"
        },
        "id": "airrAbV2Duy6",
        "outputId": "db256e76-17b0-4ec7-ffff-a996c950be5b"
      },
      "execution_count": null,
      "outputs": [
        {
          "output_type": "stream",
          "name": "stdout",
          "text": [
            "Hour: 1, Charge: $8\n",
            "Hour: 2, Charge: $10\n",
            "Hour: 3, Charge: $12\n",
            "Hour: 4, Charge: $15\n",
            "Hour: 5, Charge: $18\n",
            "Hour: 6, Charge: $20\n",
            "Hour: 7, Charge: $22\n",
            "Hour: 8, Charge: $25\n"
          ]
        }
      ]
    },
    {
      "cell_type": "code",
      "source": [
        "base_fee = 5\n",
        "hourly_fee = 2.5\n",
        "hour = 1\n",
        "\n",
        "for hour in range(1,9,1):\n",
        "  total_fee = (base_fee+hourly_fee*hour)\n",
        "  if total_fee < 10:\n",
        "    total_fee = 10\n",
        "  elif total_fee > 20:\n",
        "    total_fee = 20\n",
        "  print(f'Hour: {hour}, Charge: ${round(total_fee)}')"
      ],
      "metadata": {
        "colab": {
          "base_uri": "https://localhost:8080/"
        },
        "id": "TcPcC_YMMcMh",
        "outputId": "74f9d0f5-83fa-41ea-b333-fa4dafe7b600"
      },
      "execution_count": null,
      "outputs": [
        {
          "output_type": "stream",
          "name": "stdout",
          "text": [
            "Hour: 1, Charge: $10\n",
            "Hour: 2, Charge: $10\n",
            "Hour: 3, Charge: $12\n",
            "Hour: 4, Charge: $15\n",
            "Hour: 5, Charge: $18\n",
            "Hour: 6, Charge: $20\n",
            "Hour: 7, Charge: $20\n",
            "Hour: 8, Charge: $20\n"
          ]
        }
      ]
    },
    {
      "cell_type": "markdown",
      "source": [
        "# **02/12 Class Exercise**\n",
        "\n",
        "`1st assignment starts today but will continue on throughout the semester. It is our job to create a portfolio of all of the coding projects we work on in class and for assignments.`\n",
        "\n",
        "`Assignment #1: Create a free account on Github. Create your first repository.`\n",
        "\n",
        "\n",
        "**02/12 Class Exercise**\n",
        "\n",
        "*Design a calculator:*\n",
        "\n",
        "\n",
        "*   The calculator once starts, cannot stop unless the user chooses to (hint: infinite loop).\n",
        "*   Implement all numerical operators that we discussed (+, -, *, /, //, %, **).\n",
        "*   The user has to provide the numbers and the desired operator from the keyboard; then, the calculator will display the result.\n",
        "*   Numbers: int or float, operator: str.\n",
        "*   The calculator stops if the user enters the word \"break\" instead of an operator, it skips an iteration if the user gives an operator that is not numerical (e.g., a boolean one).\n",
        "\n",
        "Create a small statement for the break and then create a longer sequence with the if statements.\n",
        "\n",
        "\n",
        "\n"
      ],
      "metadata": {
        "id": "OsaQGqXCyqtK"
      }
    },
    {
      "cell_type": "code",
      "source": [
        "while True:\n",
        "  user_calculation = (input(\"Which calculation do you want to perform? Choose between +, -, /, //, %, and **: \"))\n",
        "  if user_calculation == 'break':\n",
        "    break\n",
        "    print(\"Thanks for playing!\")\n",
        "\n",
        "  x = float(input(\"Type in one number: \"))\n",
        "  y = float(input(\"Type in second number: \"))\n",
        "\n",
        "  if user_calculation == '+':\n",
        "    user_calculation = x+y\n",
        "    print(f'Calculation: {user_calculation}')\n",
        "  elif user_calculation == '-':\n",
        "    user_calculation = x-y\n",
        "    print(f'Calculation: {user_calculation}')\n",
        "  elif user_calculation == '/':\n",
        "    user_calculation = x/y\n",
        "    print(f'Calculation: {user_calculation}')\n",
        "  elif user_calculation == '//':\n",
        "    user_calculation = x//y\n",
        "    print(f'Calculation: {user_calculation}')\n",
        "  elif user_calculation == '%':\n",
        "    user_calculation = x%y\n",
        "    print(f'Calculation: {user_calculation}')\n",
        "  elif user_calculation == '**':\n",
        "    user_calculation = x**y\n",
        "    print(f'Calculation: {user_calculation}')"
      ],
      "metadata": {
        "colab": {
          "base_uri": "https://localhost:8080/"
        },
        "id": "D9gL_ZVp3p1R",
        "outputId": "9e78e1fa-c999-48d5-bd54-6b87e2111a8c"
      },
      "execution_count": null,
      "outputs": [
        {
          "name": "stdout",
          "output_type": "stream",
          "text": [
            "Which calculation do you want to perform? Choose between +, -, /, //, %, and **: +\n",
            "Type in one number: 350\n",
            "Type in second number: 162\n",
            "Calculation: 512.0\n",
            "Which calculation do you want to perform? Choose between +, -, /, //, %, and **: break\n"
          ]
        }
      ]
    },
    {
      "cell_type": "markdown",
      "source": [
        "# **02/21 Class Exercise**"
      ],
      "metadata": {
        "id": "G0qVtHUuNrtY"
      }
    },
    {
      "cell_type": "code",
      "source": [
        "date = (input(\"Enter date (MM/DD/YYYY): \"))\n",
        "\n",
        "month = date[0:2]\n",
        "day = date[3:5]\n",
        "year = date[6:len(date)]\n",
        "\n",
        "print(f'{month}')\n",
        "print(f'{day}')\n",
        "print(f'{year}')"
      ],
      "metadata": {
        "colab": {
          "base_uri": "https://localhost:8080/"
        },
        "id": "BeMMHEyvNwad",
        "outputId": "181fb59e-adf3-497e-c57d-f4499d7f4598"
      },
      "execution_count": null,
      "outputs": [
        {
          "output_type": "stream",
          "name": "stdout",
          "text": [
            "Enter date (MM/DD/YYYY): 02/21/2024\n",
            "02\n",
            "21\n",
            "2024\n"
          ]
        }
      ]
    },
    {
      "cell_type": "markdown",
      "source": [
        "# **02/23 Class Exercise**\n"
      ],
      "metadata": {
        "id": "1AyGk1uhMK5a"
      }
    },
    {
      "cell_type": "code",
      "source": [
        "s1 = 'abcdefg'\n",
        "s2 = 'abdght'\n",
        "\n",
        "for char in s1:\n",
        "  if char in s2:\n",
        "    print(char)\n",
        "\n",
        "for index in range(len(s1)):\n",
        "  if s1[index] in s2:\n",
        "    print(s1[index])"
      ],
      "metadata": {
        "colab": {
          "base_uri": "https://localhost:8080/"
        },
        "id": "V2wfPCiEMOly",
        "outputId": "d18cd611-3272-44ea-8383-f017b640577e"
      },
      "execution_count": null,
      "outputs": [
        {
          "output_type": "stream",
          "name": "stdout",
          "text": [
            "a\n",
            "b\n",
            "d\n",
            "g\n",
            "a\n",
            "b\n",
            "d\n",
            "g\n"
          ]
        }
      ]
    },
    {
      "cell_type": "markdown",
      "source": [
        "# **02/28 Class Exercise**\n",
        "\n",
        "`You have an empty list and the program asks the user an input from the keyboard. While this input is not 0, this number would be appended to this list and will happen repeatedly until the user gives 0. 0 is not apart of this list. `"
      ],
      "metadata": {
        "id": "jxyPirP2SqO8"
      }
    },
    {
      "cell_type": "code",
      "source": [
        "L = []\n",
        "number = int(input('Enter a value: '))\n",
        "\n",
        "while number != 0:\n",
        "  L.append({number})\n",
        "  number = int(input('Enter a value: '))\n",
        "\n",
        "print(L)\n"
      ],
      "metadata": {
        "colab": {
          "base_uri": "https://localhost:8080/"
        },
        "id": "z-HiPErmS9kE",
        "outputId": "1ac08349-a695-41a1-9f98-e31f0c8dc241"
      },
      "execution_count": null,
      "outputs": [
        {
          "output_type": "stream",
          "name": "stdout",
          "text": [
            "Enter a value: 4\n",
            "Enter a value: 3\n",
            "Enter a value: 2\n",
            "Enter a value: 0\n",
            "[{4}, {3}, {2}]\n"
          ]
        }
      ]
    },
    {
      "cell_type": "markdown",
      "source": [
        "# **03/04 Class Exercise**\n",
        "\n",
        "`Use a for loop where each iteration, you use one of the numbers as a key and one of the names as a value.`\n"
      ],
      "metadata": {
        "id": "s4Dlkm2mCRm9"
      }
    },
    {
      "cell_type": "code",
      "source": [
        "months = {}\n",
        "\n",
        "numbers = [1, 2, 3, 4, 5, 6, 7, 8, 9, 10, 11, 12]\n",
        "names = [\"Jan\", \"Feb\", \"Mar\", \"Apr\", \"May\", \"Jun\", \"Jul\", \"Aug\", \"Sep\", \"Oct\", \"Nov\", \"Dec\"]\n",
        "\n",
        "for i in range(len(numbers)):\n",
        "    months[numbers[i]] = names[i]\n",
        "\n",
        "print(months)"
      ],
      "metadata": {
        "id": "1w2mRc4aC33B",
        "colab": {
          "base_uri": "https://localhost:8080/"
        },
        "outputId": "e6e65be6-085c-46db-99c9-bdcc0949f9af"
      },
      "execution_count": null,
      "outputs": [
        {
          "output_type": "stream",
          "name": "stdout",
          "text": [
            "{1: 'Jan', 2: 'Feb', 3: 'Mar', 4: 'Apr', 5: 'May', 6: 'Jun', 7: 'Jul', 8: 'Aug', 9: 'Sep', 10: 'Oct', 11: 'Nov', 12: 'Dec'}\n"
          ]
        }
      ]
    },
    {
      "cell_type": "markdown",
      "source": [
        "# **03/25 Class Exercise**"
      ],
      "metadata": {
        "id": "NJyc3v2QOAbH"
      }
    },
    {
      "cell_type": "code",
      "source": [
        "def f(x):\n",
        "  y = 1\n",
        "  x = x + y\n",
        "  print('x =', x)\n",
        "  return x\n",
        "\n",
        "x = 3\n",
        "y = 2\n",
        "z = f(x)\n",
        "print('z = ', z)\n",
        "print('x = ', x)\n",
        "print('y = ', y)\n"
      ],
      "metadata": {
        "colab": {
          "base_uri": "https://localhost:8080/"
        },
        "id": "1rb-x7aFODgs",
        "outputId": "bc3db156-79cb-4347-e362-efbf0771ecd3"
      },
      "execution_count": 1,
      "outputs": [
        {
          "output_type": "stream",
          "name": "stdout",
          "text": [
            "x = 4\n",
            "z =  4\n",
            "x =  3\n",
            "y =  2\n"
          ]
        }
      ]
    }
  ]
}