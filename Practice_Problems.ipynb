{
  "nbformat": 4,
  "nbformat_minor": 0,
  "metadata": {
    "colab": {
      "provenance": [],
      "authorship_tag": "ABX9TyNpb2sjMIcy7foBHe6ND6+s",
      "include_colab_link": true
    },
    "kernelspec": {
      "name": "python3",
      "display_name": "Python 3"
    },
    "language_info": {
      "name": "python"
    }
  },
  "cells": [
    {
      "cell_type": "markdown",
      "metadata": {
        "id": "view-in-github",
        "colab_type": "text"
      },
      "source": [
        "<a href=\"https://colab.research.google.com/github/krisalzugaray/bte320-python-destroyer/blob/main/Practice_Problems.ipynb\" target=\"_parent\"><img src=\"https://colab.research.google.com/assets/colab-badge.svg\" alt=\"Open In Colab\"/></a>"
      ]
    },
    {
      "cell_type": "markdown",
      "source": [
        "**02/07 Class Exercises**\n",
        "\n",
        "`A parking garage charges $5 plus $2.50 for each hour parked. The minimum fee is $10 and the maximum fee is $20. Write a program that generates a table with hours parked and the corresponding fee, from 1 to 8 hours.`\n",
        "\n",
        "`Processing: can use for and range() to handle repetition from 1 to 8 hours, and the calculation for fees.`\n",
        "\n",
        "`Output: can use the print() function, within the repetition to display the results.`"
      ],
      "metadata": {
        "id": "-fKv6s1QDqHv"
      }
    },
    {
      "cell_type": "code",
      "source": [
        "base_fee = 5\n",
        "hourly_fee = 2.5\n",
        "hour = 1\n",
        "for hour in range(1,9,1):\n",
        "    print(f'Hour: {hour}, Charge: ${round(base_fee+hourly_fee*hour)}')"
      ],
      "metadata": {
        "colab": {
          "base_uri": "https://localhost:8080/"
        },
        "id": "airrAbV2Duy6",
        "outputId": "139f6112-58e8-41af-f240-a6fc9b8013eb"
      },
      "execution_count": null,
      "outputs": [
        {
          "output_type": "stream",
          "name": "stdout",
          "text": [
            "Hour: 1, Charge: $8\n",
            "Hour: 2, Charge: $10\n",
            "Hour: 3, Charge: $12\n",
            "Hour: 4, Charge: $15\n",
            "Hour: 5, Charge: $18\n",
            "Hour: 6, Charge: $20\n",
            "Hour: 7, Charge: $22\n",
            "Hour: 8, Charge: $25\n"
          ]
        }
      ]
    },
    {
      "cell_type": "code",
      "source": [
        "base_fee = 5\n",
        "hourly_fee = 2.5\n",
        "hour = 1\n",
        "\n",
        "for hour in range(1,9,1):\n",
        "  total_fee = (base_fee+hourly_fee*hour)\n",
        "  if total_fee < 10:\n",
        "    total_fee = 10\n",
        "  elif total_fee > 20:\n",
        "    total_fee = 20\n",
        "  print(f'Hour: {hour}, Charge: ${round(total_fee)}')"
      ],
      "metadata": {
        "colab": {
          "base_uri": "https://localhost:8080/"
        },
        "id": "TcPcC_YMMcMh",
        "outputId": "1415c523-5006-42bd-ecf3-3fbfb290d967"
      },
      "execution_count": null,
      "outputs": [
        {
          "output_type": "stream",
          "name": "stdout",
          "text": [
            "Hour: 1, Charge: $10\n",
            "Hour: 2, Charge: $10\n",
            "Hour: 3, Charge: $12\n",
            "Hour: 4, Charge: $15\n",
            "Hour: 5, Charge: $18\n",
            "Hour: 6, Charge: $20\n",
            "Hour: 7, Charge: $20\n",
            "Hour: 8, Charge: $20\n"
          ]
        }
      ]
    },
    {
      "cell_type": "markdown",
      "source": [
        "**02/12 Class Notes**\n",
        "\n",
        "`1st assignment starts today but will continue on throughout the semester. It is our job to create a portfolio of all of the coding projects we work on in class and for assignments.`\n",
        "`Assignment #1: Create a free account on Github. Create your first repository`"
      ],
      "metadata": {
        "id": "OsaQGqXCyqtK"
      }
    }
  ]
}